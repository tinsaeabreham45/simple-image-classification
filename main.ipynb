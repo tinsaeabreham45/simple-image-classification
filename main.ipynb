{
 "cells": [
  {
   "cell_type": "code",
   "execution_count": 1,
   "metadata": {},
   "outputs": [],
   "source": [
    "import numpy as np\n",
    "import tensorflow as tf\n",
    "import os \n",
    "import random\n",
    "from io import BytesIO\n",
    "import matplotlib.pyplot as plt\n",
    "from ipywidgets import widgets"
   ]
  },
  {
   "cell_type": "code",
   "execution_count": 2,
   "metadata": {},
   "outputs": [
    {
     "name": "stdout",
     "output_type": "stream",
     "text": [
      "the current Directory is: ['.git', 'horse-or-human', 'main.ipynb', 'pexels-dibert-635499.jpg', 'pexels-fotofyn-634613.jpg', 'pexels-pixabay-53114.jpg', 'pexels-wildlittlethingsphoto-1996338.jpg']\n",
      "\n",
      "Sub-folders in horse-or-human is: ['horses', 'humans']\n"
     ]
    }
   ],
   "source": [
    "TRAIN_DIR = 'horse-or-human'\n",
    "print(f'the current Directory is:',os.listdir())\n",
    "\n",
    "print(f'\\nSub-folders in {TRAIN_DIR} is:', os.listdir(TRAIN_DIR))"
   ]
  },
  {
   "cell_type": "code",
   "execution_count": 21,
   "metadata": {},
   "outputs": [],
   "source": [
    "seed = 42\n",
    "tf.random.set_seed(seed)\n",
    "np.random.seed(seed)\n",
    "random.seed(seed)"
   ]
  },
  {
   "cell_type": "code",
   "execution_count": 22,
   "metadata": {},
   "outputs": [
    {
     "name": "stdout",
     "output_type": "stream",
     "text": [
      "the first 5 name of horse: ['horse01-0.png', 'horse01-1.png', 'horse01-2.png', 'horse01-3.png', 'horse01-4.png']\n",
      "the first 5 name of human: ['human01-00.png', 'human01-01.png', 'human01-02.png', 'human01-03.png', 'human01-04.png', 'human01-05.png', 'human01-06.png', 'human01-07.png', 'human01-08.png', 'human01-09.png', 'human01-10.png', 'human01-11.png', 'human01-12.png', 'human01-13.png', 'human01-14.png', 'human01-15.png', 'human01-16.png', 'human01-17.png', 'human01-18.png', 'human01-19.png', 'human01-20.png', 'human01-21.png', 'human01-22.png', 'human01-23.png', 'human01-24.png', 'human01-25.png', 'human01-26.png', 'human01-27.png', 'human01-28.png', 'human01-29.png', 'human01-30.png', 'human02-00.png', 'human02-01.png', 'human02-02.png', 'human02-03.png', 'human02-04.png', 'human02-05.png', 'human02-06.png', 'human02-07.png', 'human02-08.png', 'human02-09.png', 'human02-10.png', 'human02-11.png', 'human02-12.png', 'human02-13.png', 'human02-14.png', 'human02-15.png', 'human02-16.png', 'human02-17.png', 'human02-18.png', 'human02-19.png', 'human02-20.png', 'human02-21.png', 'human02-22.png', 'human02-23.png', 'human02-24.png', 'human02-25.png', 'human02-26.png', 'human02-27.png', 'human02-28.png', 'human02-29.png', 'human02-30.png', 'human03-00.png', 'human03-01.png', 'human03-02.png', 'human03-03.png', 'human03-04.png', 'human03-05.png', 'human03-06.png', 'human03-07.png', 'human03-08.png', 'human03-09.png', 'human03-10.png', 'human03-11.png', 'human03-12.png', 'human03-13.png', 'human03-14.png', 'human03-15.png', 'human03-16.png', 'human03-17.png', 'human03-18.png', 'human03-19.png', 'human03-20.png', 'human03-21.png', 'human03-22.png', 'human03-23.png', 'human03-24.png', 'human03-25.png', 'human03-26.png', 'human03-27.png', 'human03-28.png', 'human03-29.png', 'human03-30.png', 'human04-00.png', 'human04-01.png', 'human04-02.png', 'human04-03.png', 'human04-04.png', 'human04-05.png', 'human04-06.png', 'human04-07.png', 'human04-08.png', 'human04-09.png', 'human04-10.png', 'human04-11.png', 'human04-12.png', 'human04-13.png', 'human04-14.png', 'human04-15.png', 'human04-16.png', 'human04-17.png', 'human04-18.png', 'human04-19.png', 'human04-20.png', 'human04-21.png', 'human04-22.png', 'human04-23.png', 'human04-24.png', 'human04-25.png', 'human04-26.png', 'human04-27.png', 'human04-28.png', 'human04-29.png', 'human04-30.png', 'human05-00.png', 'human05-01.png', 'human05-02.png', 'human05-03.png', 'human05-04.png', 'human05-05.png', 'human05-06.png', 'human05-07.png', 'human05-08.png', 'human05-09.png', 'human05-10.png', 'human05-11.png', 'human05-12.png', 'human05-13.png', 'human05-14.png', 'human05-15.png', 'human05-16.png', 'human05-17.png', 'human05-18.png', 'human05-19.png', 'human05-20.png', 'human05-21.png', 'human05-22.png', 'human05-23.png', 'human05-24.png', 'human05-25.png', 'human05-26.png', 'human05-27.png', 'human05-28.png', 'human05-29.png', 'human05-30.png', 'human06-00.png', 'human06-01.png', 'human06-02.png', 'human06-03.png', 'human06-04.png', 'human06-05.png', 'human06-06.png', 'human06-07.png', 'human06-08.png', 'human06-09.png', 'human06-10.png', 'human06-11.png', 'human06-12.png', 'human06-13.png', 'human06-14.png', 'human06-15.png', 'human06-16.png', 'human06-17.png', 'human06-18.png', 'human06-19.png', 'human06-20.png', 'human06-21.png', 'human06-22.png', 'human06-23.png', 'human06-24.png', 'human06-25.png', 'human06-26.png', 'human06-27.png', 'human06-28.png', 'human06-29.png', 'human06-30.png', 'human07-00.png', 'human07-01.png', 'human07-02.png', 'human07-03.png', 'human07-04.png', 'human07-05.png', 'human07-06.png', 'human07-07.png', 'human07-08.png', 'human07-09.png', 'human07-10.png', 'human07-11.png', 'human07-12.png', 'human07-13.png', 'human07-14.png', 'human07-15.png', 'human07-16.png', 'human07-17.png', 'human07-18.png', 'human07-19.png', 'human07-20.png', 'human07-21.png', 'human07-22.png', 'human07-23.png', 'human07-24.png', 'human07-25.png', 'human07-26.png', 'human07-27.png', 'human07-28.png', 'human07-29.png', 'human07-30.png', 'human08-00.png', 'human08-01.png', 'human08-02.png', 'human08-03.png', 'human08-04.png', 'human08-05.png', 'human08-06.png', 'human08-07.png', 'human08-08.png', 'human08-09.png', 'human08-10.png', 'human08-11.png', 'human08-12.png', 'human08-13.png', 'human08-14.png', 'human08-15.png', 'human08-16.png', 'human08-17.png', 'human08-18.png', 'human08-19.png', 'human08-20.png', 'human08-21.png', 'human08-22.png', 'human08-23.png', 'human08-24.png', 'human08-25.png', 'human08-26.png', 'human08-27.png', 'human08-28.png', 'human08-29.png', 'human08-30.png', 'human09-00.png', 'human09-01.png', 'human09-02.png', 'human09-03.png', 'human09-04.png', 'human09-05.png', 'human09-06.png', 'human09-07.png', 'human09-08.png', 'human09-09.png', 'human09-10.png', 'human09-11.png', 'human09-12.png', 'human09-13.png', 'human09-14.png', 'human09-15.png', 'human09-16.png', 'human09-17.png', 'human09-18.png', 'human09-19.png', 'human09-20.png', 'human09-21.png', 'human09-22.png', 'human09-23.png', 'human09-24.png', 'human09-25.png', 'human09-26.png', 'human09-27.png', 'human09-28.png', 'human09-29.png', 'human09-30.png', 'human10-00.png', 'human10-01.png', 'human10-02.png', 'human10-03.png', 'human10-04.png', 'human10-05.png', 'human10-06.png', 'human10-07.png', 'human10-08.png', 'human10-09.png', 'human10-10.png', 'human10-11.png', 'human10-12.png', 'human10-13.png', 'human10-14.png', 'human10-15.png', 'human10-16.png', 'human10-17.png', 'human10-18.png', 'human10-19.png', 'human10-20.png', 'human10-21.png', 'human10-22.png', 'human10-23.png', 'human10-24.png', 'human10-25.png', 'human10-26.png', 'human10-27.png', 'human10-28.png', 'human10-29.png', 'human10-30.png', 'human11-00.png', 'human11-01.png', 'human11-02.png', 'human11-03.png', 'human11-04.png', 'human11-05.png', 'human11-06.png', 'human11-07.png', 'human11-08.png', 'human11-09.png', 'human11-10.png', 'human11-11.png', 'human11-12.png', 'human11-13.png', 'human11-14.png', 'human11-15.png', 'human11-16.png', 'human11-17.png', 'human11-18.png', 'human11-19.png', 'human11-20.png', 'human11-21.png', 'human11-22.png', 'human11-23.png', 'human11-24.png', 'human11-25.png', 'human11-26.png', 'human11-27.png', 'human11-28.png', 'human11-29.png', 'human11-30.png', 'human12-00.png', 'human12-01.png', 'human12-02.png', 'human12-03.png', 'human12-04.png', 'human12-05.png', 'human12-06.png', 'human12-07.png', 'human12-08.png', 'human12-09.png', 'human12-10.png', 'human12-11.png', 'human12-12.png', 'human12-13.png', 'human12-14.png', 'human12-15.png', 'human12-16.png', 'human12-17.png', 'human12-18.png', 'human12-19.png', 'human12-20.png', 'human12-21.png', 'human12-22.png', 'human12-23.png', 'human12-24.png', 'human12-25.png', 'human12-26.png', 'human12-27.png', 'human12-28.png', 'human12-29.png', 'human12-30.png', 'human13-00.png', 'human13-01.png', 'human13-02.png', 'human13-03.png', 'human13-04.png', 'human13-05.png', 'human13-06.png', 'human13-07.png', 'human13-08.png', 'human13-09.png', 'human13-10.png', 'human13-11.png', 'human13-12.png', 'human13-13.png', 'human13-14.png', 'human13-15.png', 'human13-16.png', 'human13-17.png', 'human13-18.png', 'human13-19.png', 'human13-20.png', 'human13-21.png', 'human13-22.png', 'human13-23.png', 'human13-24.png', 'human13-25.png', 'human13-26.png', 'human13-27.png', 'human13-28.png', 'human13-29.png', 'human13-30.png', 'human14-00.png', 'human14-01.png', 'human14-02.png', 'human14-03.png', 'human14-04.png', 'human14-05.png', 'human14-06.png', 'human14-07.png', 'human14-08.png', 'human14-09.png', 'human14-10.png', 'human14-11.png', 'human14-12.png', 'human14-13.png', 'human14-14.png', 'human14-15.png', 'human14-16.png', 'human14-17.png', 'human14-18.png', 'human14-19.png', 'human14-20.png', 'human14-21.png', 'human14-22.png', 'human14-23.png', 'human14-24.png', 'human14-25.png', 'human14-26.png', 'human14-27.png', 'human14-28.png', 'human14-29.png', 'human14-30.png', 'human15-00.png', 'human15-01.png', 'human15-02.png', 'human15-03.png', 'human15-04.png', 'human15-05.png', 'human15-06.png', 'human15-07.png', 'human15-08.png', 'human15-09.png', 'human15-10.png', 'human15-11.png', 'human15-12.png', 'human15-13.png', 'human15-14.png', 'human15-15.png', 'human15-16.png', 'human15-17.png', 'human15-18.png', 'human15-19.png', 'human15-20.png', 'human15-21.png', 'human15-22.png', 'human15-23.png', 'human15-24.png', 'human15-25.png', 'human15-26.png', 'human15-27.png', 'human15-28.png', 'human15-29.png', 'human15-30.png', 'human16-00.png', 'human16-01.png', 'human16-02.png', 'human16-03.png', 'human16-04.png', 'human16-05.png', 'human16-06.png', 'human16-07.png', 'human16-08.png', 'human16-09.png', 'human16-10.png', 'human16-11.png', 'human16-12.png', 'human16-13.png', 'human16-14.png', 'human16-15.png', 'human16-16.png', 'human16-17.png', 'human16-18.png', 'human16-19.png', 'human16-20.png', 'human16-21.png', 'human16-22.png', 'human16-23.png', 'human16-24.png', 'human16-25.png', 'human16-26.png', 'human16-27.png', 'human16-28.png', 'human16-29.png', 'human16-30.png', 'human17-00.png', 'human17-01.png', 'human17-02.png', 'human17-03.png', 'human17-04.png', 'human17-05.png', 'human17-06.png', 'human17-07.png', 'human17-08.png', 'human17-09.png', 'human17-10.png', 'human17-11.png', 'human17-12.png', 'human17-13.png', 'human17-14.png', 'human17-15.png', 'human17-16.png', 'human17-17.png', 'human17-18.png', 'human17-19.png', 'human17-20.png', 'human17-21.png', 'human17-22.png', 'human17-23.png', 'human17-24.png', 'human17-25.png', 'human17-26.png', 'human17-27.png', 'human17-28.png', 'human17-29.png', 'human17-30.png']\n"
     ]
    }
   ],
   "source": [
    "train_horse_dir = os.path.join(TRAIN_DIR, 'horses')\n",
    "\n",
    "train_human_dir = os.path.join(TRAIN_DIR, 'humans')\n",
    "\n",
    "train_horse_names = os.listdir(train_horse_dir)\n",
    "print('the first 5 name of horse:', train_horse_names[: 5])\n",
    "\n",
    "train_human_names = os.listdir(train_human_dir)\n",
    "print('the first 5 name of human:', train_human_names)"
   ]
  },
  {
   "cell_type": "code",
   "execution_count": 23,
   "metadata": {},
   "outputs": [
    {
     "name": "stdout",
     "output_type": "stream",
     "text": [
      "The total object in the horse folder is: 500\n",
      "The total object in the humans folder is: 527\n"
     ]
    }
   ],
   "source": [
    "print('The total object in the horse folder is:',len(os.listdir(train_horse_dir)))\n",
    "print('The total object in the humans folder is:',len(os.listdir(train_human_dir)))"
   ]
  },
  {
   "cell_type": "code",
   "execution_count": 6,
   "metadata": {},
   "outputs": [],
   "source": [
    "# display some image from the folders later project  "
   ]
  },
  {
   "cell_type": "code",
   "execution_count": 5,
   "metadata": {},
   "outputs": [],
   "source": [
    "# build a model \n",
    "\n",
    "''' model = tf.keras.Sequential([\n",
    "    tf.keras.Input(shape=(300, 300, 3)),\n",
    "    tf.keras.layers.Conv2D(32, (3,3), activation='relu'),\n",
    "    tf.keras.layers.MaxPool2D(2,2),\n",
    "    tf.keras.layers.Conv2D(64, (3,3), activation='relu'),\n",
    "    tf.keras.layers.MaxPool2D(2,2),\n",
    "    tf.keras.layers.Conv2D(64, (3,3), activation='relu'),\n",
    "    tf.keras.layers.MaxPool2D(2,2),\n",
    "\n",
    "    tf.keras.layers.Flatten(),\n",
    "    tf.keras.layers.Dense(512, activation='relu'),\n",
    "    tf.keras.layers.Dense(1, activation='sigmoid')\n",
    "]) '''\n"
   ]
  },
  {
   "cell_type": "code",
   "execution_count": 7,
   "metadata": {},
   "outputs": [],
   "source": [
    "# build a model \n",
    "\n",
    "'''model = tf.keras.Sequential([\n",
    "    tf.keras.Input(shape=(300, 300, 3)),\n",
    "    tf.keras.layers.Conv2D(32, (3,3), activation='relu'),\n",
    "    tf.keras.layers.MaxPool2D(2,2),\n",
    "    tf.keras.layers.Conv2D(64, (3,3), activation='relu'),\n",
    "    tf.keras.layers.MaxPool2D(2,2),\n",
    "    tf.keras.layers.Conv2D(64, (3,3), activation='relu'),\n",
    "    tf.keras.layers.MaxPool2D(2,2),\n",
    "\n",
    "    tf.keras.layers.Flatten(),\n",
    "    tf.keras.layers.Dense(64, activation='relu'),\n",
    "    tf.keras.layers.Dense(1, activation='sigmoid')\n",
    "])'''\n"
   ]
  },
  {
   "cell_type": "code",
   "execution_count": 24,
   "metadata": {},
   "outputs": [],
   "source": [
    "model = tf.keras.Sequential([\n",
    "    tf.keras.Input(shape=(300, 300, 3)),\n",
    "\n",
    "    tf.keras.layers.Conv2D(32, (3,3), activation='relu'),\n",
    "    tf.keras.layers.MaxPool2D(2,2),\n",
    "    tf.keras.layers.Dropout(0.3),  # Regularization\n",
    "\n",
    "    tf.keras.layers.Conv2D(64, (3,3), activation='relu'),\n",
    "    tf.keras.layers.MaxPool2D(2,2),\n",
    "    tf.keras.layers.Dropout(0.3),\n",
    "\n",
    "    tf.keras.layers.Conv2D(64, (3,3), activation='relu'),\n",
    "    tf.keras.layers.MaxPool2D(2,2),\n",
    "\n",
    "    tf.keras.layers.Flatten(),\n",
    "    tf.keras.layers.Dense(64, activation='relu'),\n",
    "    tf.keras.layers.Dropout(0.5),  # Regularization\n",
    "    tf.keras.layers.Dense(1, activation='sigmoid')  # Binary classification\n",
    "])\n"
   ]
  },
  {
   "cell_type": "code",
   "execution_count": 25,
   "metadata": {},
   "outputs": [
    {
     "data": {
      "text/html": [
       "<pre style=\"white-space:pre;overflow-x:auto;line-height:normal;font-family:Menlo,'DejaVu Sans Mono',consolas,'Courier New',monospace\"><span style=\"font-weight: bold\">Model: \"sequential_2\"</span>\n",
       "</pre>\n"
      ],
      "text/plain": [
       "\u001b[1mModel: \"sequential_2\"\u001b[0m\n"
      ]
     },
     "metadata": {},
     "output_type": "display_data"
    },
    {
     "data": {
      "text/html": [
       "<pre style=\"white-space:pre;overflow-x:auto;line-height:normal;font-family:Menlo,'DejaVu Sans Mono',consolas,'Courier New',monospace\">┏━━━━━━━━━━━━━━━━━━━━━━━━━━━━━━━━━┳━━━━━━━━━━━━━━━━━━━━━━━━┳━━━━━━━━━━━━━━━┓\n",
       "┃<span style=\"font-weight: bold\"> Layer (type)                    </span>┃<span style=\"font-weight: bold\"> Output Shape           </span>┃<span style=\"font-weight: bold\">       Param # </span>┃\n",
       "┡━━━━━━━━━━━━━━━━━━━━━━━━━━━━━━━━━╇━━━━━━━━━━━━━━━━━━━━━━━━╇━━━━━━━━━━━━━━━┩\n",
       "│ conv2d_6 (<span style=\"color: #0087ff; text-decoration-color: #0087ff\">Conv2D</span>)               │ (<span style=\"color: #00d7ff; text-decoration-color: #00d7ff\">None</span>, <span style=\"color: #00af00; text-decoration-color: #00af00\">298</span>, <span style=\"color: #00af00; text-decoration-color: #00af00\">298</span>, <span style=\"color: #00af00; text-decoration-color: #00af00\">32</span>)   │           <span style=\"color: #00af00; text-decoration-color: #00af00\">896</span> │\n",
       "├─────────────────────────────────┼────────────────────────┼───────────────┤\n",
       "│ max_pooling2d_6 (<span style=\"color: #0087ff; text-decoration-color: #0087ff\">MaxPooling2D</span>)  │ (<span style=\"color: #00d7ff; text-decoration-color: #00d7ff\">None</span>, <span style=\"color: #00af00; text-decoration-color: #00af00\">149</span>, <span style=\"color: #00af00; text-decoration-color: #00af00\">149</span>, <span style=\"color: #00af00; text-decoration-color: #00af00\">32</span>)   │             <span style=\"color: #00af00; text-decoration-color: #00af00\">0</span> │\n",
       "├─────────────────────────────────┼────────────────────────┼───────────────┤\n",
       "│ dropout (<span style=\"color: #0087ff; text-decoration-color: #0087ff\">Dropout</span>)               │ (<span style=\"color: #00d7ff; text-decoration-color: #00d7ff\">None</span>, <span style=\"color: #00af00; text-decoration-color: #00af00\">149</span>, <span style=\"color: #00af00; text-decoration-color: #00af00\">149</span>, <span style=\"color: #00af00; text-decoration-color: #00af00\">32</span>)   │             <span style=\"color: #00af00; text-decoration-color: #00af00\">0</span> │\n",
       "├─────────────────────────────────┼────────────────────────┼───────────────┤\n",
       "│ conv2d_7 (<span style=\"color: #0087ff; text-decoration-color: #0087ff\">Conv2D</span>)               │ (<span style=\"color: #00d7ff; text-decoration-color: #00d7ff\">None</span>, <span style=\"color: #00af00; text-decoration-color: #00af00\">147</span>, <span style=\"color: #00af00; text-decoration-color: #00af00\">147</span>, <span style=\"color: #00af00; text-decoration-color: #00af00\">64</span>)   │        <span style=\"color: #00af00; text-decoration-color: #00af00\">18,496</span> │\n",
       "├─────────────────────────────────┼────────────────────────┼───────────────┤\n",
       "│ max_pooling2d_7 (<span style=\"color: #0087ff; text-decoration-color: #0087ff\">MaxPooling2D</span>)  │ (<span style=\"color: #00d7ff; text-decoration-color: #00d7ff\">None</span>, <span style=\"color: #00af00; text-decoration-color: #00af00\">73</span>, <span style=\"color: #00af00; text-decoration-color: #00af00\">73</span>, <span style=\"color: #00af00; text-decoration-color: #00af00\">64</span>)     │             <span style=\"color: #00af00; text-decoration-color: #00af00\">0</span> │\n",
       "├─────────────────────────────────┼────────────────────────┼───────────────┤\n",
       "│ dropout_1 (<span style=\"color: #0087ff; text-decoration-color: #0087ff\">Dropout</span>)             │ (<span style=\"color: #00d7ff; text-decoration-color: #00d7ff\">None</span>, <span style=\"color: #00af00; text-decoration-color: #00af00\">73</span>, <span style=\"color: #00af00; text-decoration-color: #00af00\">73</span>, <span style=\"color: #00af00; text-decoration-color: #00af00\">64</span>)     │             <span style=\"color: #00af00; text-decoration-color: #00af00\">0</span> │\n",
       "├─────────────────────────────────┼────────────────────────┼───────────────┤\n",
       "│ conv2d_8 (<span style=\"color: #0087ff; text-decoration-color: #0087ff\">Conv2D</span>)               │ (<span style=\"color: #00d7ff; text-decoration-color: #00d7ff\">None</span>, <span style=\"color: #00af00; text-decoration-color: #00af00\">71</span>, <span style=\"color: #00af00; text-decoration-color: #00af00\">71</span>, <span style=\"color: #00af00; text-decoration-color: #00af00\">64</span>)     │        <span style=\"color: #00af00; text-decoration-color: #00af00\">36,928</span> │\n",
       "├─────────────────────────────────┼────────────────────────┼───────────────┤\n",
       "│ max_pooling2d_8 (<span style=\"color: #0087ff; text-decoration-color: #0087ff\">MaxPooling2D</span>)  │ (<span style=\"color: #00d7ff; text-decoration-color: #00d7ff\">None</span>, <span style=\"color: #00af00; text-decoration-color: #00af00\">35</span>, <span style=\"color: #00af00; text-decoration-color: #00af00\">35</span>, <span style=\"color: #00af00; text-decoration-color: #00af00\">64</span>)     │             <span style=\"color: #00af00; text-decoration-color: #00af00\">0</span> │\n",
       "├─────────────────────────────────┼────────────────────────┼───────────────┤\n",
       "│ flatten_2 (<span style=\"color: #0087ff; text-decoration-color: #0087ff\">Flatten</span>)             │ (<span style=\"color: #00d7ff; text-decoration-color: #00d7ff\">None</span>, <span style=\"color: #00af00; text-decoration-color: #00af00\">78400</span>)          │             <span style=\"color: #00af00; text-decoration-color: #00af00\">0</span> │\n",
       "├─────────────────────────────────┼────────────────────────┼───────────────┤\n",
       "│ dense_4 (<span style=\"color: #0087ff; text-decoration-color: #0087ff\">Dense</span>)                 │ (<span style=\"color: #00d7ff; text-decoration-color: #00d7ff\">None</span>, <span style=\"color: #00af00; text-decoration-color: #00af00\">64</span>)             │     <span style=\"color: #00af00; text-decoration-color: #00af00\">5,017,664</span> │\n",
       "├─────────────────────────────────┼────────────────────────┼───────────────┤\n",
       "│ dropout_2 (<span style=\"color: #0087ff; text-decoration-color: #0087ff\">Dropout</span>)             │ (<span style=\"color: #00d7ff; text-decoration-color: #00d7ff\">None</span>, <span style=\"color: #00af00; text-decoration-color: #00af00\">64</span>)             │             <span style=\"color: #00af00; text-decoration-color: #00af00\">0</span> │\n",
       "├─────────────────────────────────┼────────────────────────┼───────────────┤\n",
       "│ dense_5 (<span style=\"color: #0087ff; text-decoration-color: #0087ff\">Dense</span>)                 │ (<span style=\"color: #00d7ff; text-decoration-color: #00d7ff\">None</span>, <span style=\"color: #00af00; text-decoration-color: #00af00\">1</span>)              │            <span style=\"color: #00af00; text-decoration-color: #00af00\">65</span> │\n",
       "└─────────────────────────────────┴────────────────────────┴───────────────┘\n",
       "</pre>\n"
      ],
      "text/plain": [
       "┏━━━━━━━━━━━━━━━━━━━━━━━━━━━━━━━━━┳━━━━━━━━━━━━━━━━━━━━━━━━┳━━━━━━━━━━━━━━━┓\n",
       "┃\u001b[1m \u001b[0m\u001b[1mLayer (type)                   \u001b[0m\u001b[1m \u001b[0m┃\u001b[1m \u001b[0m\u001b[1mOutput Shape          \u001b[0m\u001b[1m \u001b[0m┃\u001b[1m \u001b[0m\u001b[1m      Param #\u001b[0m\u001b[1m \u001b[0m┃\n",
       "┡━━━━━━━━━━━━━━━━━━━━━━━━━━━━━━━━━╇━━━━━━━━━━━━━━━━━━━━━━━━╇━━━━━━━━━━━━━━━┩\n",
       "│ conv2d_6 (\u001b[38;5;33mConv2D\u001b[0m)               │ (\u001b[38;5;45mNone\u001b[0m, \u001b[38;5;34m298\u001b[0m, \u001b[38;5;34m298\u001b[0m, \u001b[38;5;34m32\u001b[0m)   │           \u001b[38;5;34m896\u001b[0m │\n",
       "├─────────────────────────────────┼────────────────────────┼───────────────┤\n",
       "│ max_pooling2d_6 (\u001b[38;5;33mMaxPooling2D\u001b[0m)  │ (\u001b[38;5;45mNone\u001b[0m, \u001b[38;5;34m149\u001b[0m, \u001b[38;5;34m149\u001b[0m, \u001b[38;5;34m32\u001b[0m)   │             \u001b[38;5;34m0\u001b[0m │\n",
       "├─────────────────────────────────┼────────────────────────┼───────────────┤\n",
       "│ dropout (\u001b[38;5;33mDropout\u001b[0m)               │ (\u001b[38;5;45mNone\u001b[0m, \u001b[38;5;34m149\u001b[0m, \u001b[38;5;34m149\u001b[0m, \u001b[38;5;34m32\u001b[0m)   │             \u001b[38;5;34m0\u001b[0m │\n",
       "├─────────────────────────────────┼────────────────────────┼───────────────┤\n",
       "│ conv2d_7 (\u001b[38;5;33mConv2D\u001b[0m)               │ (\u001b[38;5;45mNone\u001b[0m, \u001b[38;5;34m147\u001b[0m, \u001b[38;5;34m147\u001b[0m, \u001b[38;5;34m64\u001b[0m)   │        \u001b[38;5;34m18,496\u001b[0m │\n",
       "├─────────────────────────────────┼────────────────────────┼───────────────┤\n",
       "│ max_pooling2d_7 (\u001b[38;5;33mMaxPooling2D\u001b[0m)  │ (\u001b[38;5;45mNone\u001b[0m, \u001b[38;5;34m73\u001b[0m, \u001b[38;5;34m73\u001b[0m, \u001b[38;5;34m64\u001b[0m)     │             \u001b[38;5;34m0\u001b[0m │\n",
       "├─────────────────────────────────┼────────────────────────┼───────────────┤\n",
       "│ dropout_1 (\u001b[38;5;33mDropout\u001b[0m)             │ (\u001b[38;5;45mNone\u001b[0m, \u001b[38;5;34m73\u001b[0m, \u001b[38;5;34m73\u001b[0m, \u001b[38;5;34m64\u001b[0m)     │             \u001b[38;5;34m0\u001b[0m │\n",
       "├─────────────────────────────────┼────────────────────────┼───────────────┤\n",
       "│ conv2d_8 (\u001b[38;5;33mConv2D\u001b[0m)               │ (\u001b[38;5;45mNone\u001b[0m, \u001b[38;5;34m71\u001b[0m, \u001b[38;5;34m71\u001b[0m, \u001b[38;5;34m64\u001b[0m)     │        \u001b[38;5;34m36,928\u001b[0m │\n",
       "├─────────────────────────────────┼────────────────────────┼───────────────┤\n",
       "│ max_pooling2d_8 (\u001b[38;5;33mMaxPooling2D\u001b[0m)  │ (\u001b[38;5;45mNone\u001b[0m, \u001b[38;5;34m35\u001b[0m, \u001b[38;5;34m35\u001b[0m, \u001b[38;5;34m64\u001b[0m)     │             \u001b[38;5;34m0\u001b[0m │\n",
       "├─────────────────────────────────┼────────────────────────┼───────────────┤\n",
       "│ flatten_2 (\u001b[38;5;33mFlatten\u001b[0m)             │ (\u001b[38;5;45mNone\u001b[0m, \u001b[38;5;34m78400\u001b[0m)          │             \u001b[38;5;34m0\u001b[0m │\n",
       "├─────────────────────────────────┼────────────────────────┼───────────────┤\n",
       "│ dense_4 (\u001b[38;5;33mDense\u001b[0m)                 │ (\u001b[38;5;45mNone\u001b[0m, \u001b[38;5;34m64\u001b[0m)             │     \u001b[38;5;34m5,017,664\u001b[0m │\n",
       "├─────────────────────────────────┼────────────────────────┼───────────────┤\n",
       "│ dropout_2 (\u001b[38;5;33mDropout\u001b[0m)             │ (\u001b[38;5;45mNone\u001b[0m, \u001b[38;5;34m64\u001b[0m)             │             \u001b[38;5;34m0\u001b[0m │\n",
       "├─────────────────────────────────┼────────────────────────┼───────────────┤\n",
       "│ dense_5 (\u001b[38;5;33mDense\u001b[0m)                 │ (\u001b[38;5;45mNone\u001b[0m, \u001b[38;5;34m1\u001b[0m)              │            \u001b[38;5;34m65\u001b[0m │\n",
       "└─────────────────────────────────┴────────────────────────┴───────────────┘\n"
      ]
     },
     "metadata": {},
     "output_type": "display_data"
    },
    {
     "data": {
      "text/html": [
       "<pre style=\"white-space:pre;overflow-x:auto;line-height:normal;font-family:Menlo,'DejaVu Sans Mono',consolas,'Courier New',monospace\"><span style=\"font-weight: bold\"> Total params: </span><span style=\"color: #00af00; text-decoration-color: #00af00\">5,074,049</span> (19.36 MB)\n",
       "</pre>\n"
      ],
      "text/plain": [
       "\u001b[1m Total params: \u001b[0m\u001b[38;5;34m5,074,049\u001b[0m (19.36 MB)\n"
      ]
     },
     "metadata": {},
     "output_type": "display_data"
    },
    {
     "data": {
      "text/html": [
       "<pre style=\"white-space:pre;overflow-x:auto;line-height:normal;font-family:Menlo,'DejaVu Sans Mono',consolas,'Courier New',monospace\"><span style=\"font-weight: bold\"> Trainable params: </span><span style=\"color: #00af00; text-decoration-color: #00af00\">5,074,049</span> (19.36 MB)\n",
       "</pre>\n"
      ],
      "text/plain": [
       "\u001b[1m Trainable params: \u001b[0m\u001b[38;5;34m5,074,049\u001b[0m (19.36 MB)\n"
      ]
     },
     "metadata": {},
     "output_type": "display_data"
    },
    {
     "data": {
      "text/html": [
       "<pre style=\"white-space:pre;overflow-x:auto;line-height:normal;font-family:Menlo,'DejaVu Sans Mono',consolas,'Courier New',monospace\"><span style=\"font-weight: bold\"> Non-trainable params: </span><span style=\"color: #00af00; text-decoration-color: #00af00\">0</span> (0.00 B)\n",
       "</pre>\n"
      ],
      "text/plain": [
       "\u001b[1m Non-trainable params: \u001b[0m\u001b[38;5;34m0\u001b[0m (0.00 B)\n"
      ]
     },
     "metadata": {},
     "output_type": "display_data"
    }
   ],
   "source": [
    "model.summary()"
   ]
  },
  {
   "cell_type": "code",
   "execution_count": 26,
   "metadata": {},
   "outputs": [],
   "source": [
    "model.compile(\n",
    "    loss='binary_crossentropy',\n",
    "    optimizer=tf.keras.optimizers.RMSprop(learning_rate=0.001),\n",
    "    metrics=['accuracy']\n",
    ")"
   ]
  },
  {
   "cell_type": "code",
   "execution_count": 27,
   "metadata": {},
   "outputs": [
    {
     "name": "stdout",
     "output_type": "stream",
     "text": [
      "Found 1027 files belonging to 2 classes.\n"
     ]
    }
   ],
   "source": [
    "# Instantiate the dataset\n",
    "\n",
    "train_dataset = tf.keras.utils.image_dataset_from_directory(\n",
    "    TRAIN_DIR, \n",
    "    batch_size = 32,\n",
    "    image_size = (300, 300),\n",
    "    label_mode='binary'\n",
    ")\n",
    "type_dataset = type(train_dataset)"
   ]
  },
  {
   "cell_type": "code",
   "execution_count": 28,
   "metadata": {},
   "outputs": [],
   "source": [
    "rescaled_layer = tf.keras.layers.Rescaling(scale=1./255)\n",
    "#rescale_layer = tf.keras.layers.Rescaling(scale=1./255)"
   ]
  },
  {
   "cell_type": "code",
   "execution_count": 29,
   "metadata": {},
   "outputs": [],
   "source": [
    "#train_dataset_scaled = train_dataset.map(lambda image, label: (rescaled_layer(image), label))\n",
    "train_dataset_scaled = train_dataset.map(lambda image, label: (rescaled_layer(image), label))"
   ]
  },
  {
   "cell_type": "code",
   "execution_count": 11,
   "metadata": {},
   "outputs": [],
   "source": [
    "class myCallback(tf.keras.callbacks.Callback):\n",
    "    def on_epoch_end(self, epoch, logs=None):\n",
    "        if logs['loss'] <= 0.02:\n",
    "             print('Loss is low so cancelling training!')\n",
    "             self.model.stop_training = True\n"
   ]
  },
  {
   "cell_type": "code",
   "execution_count": 16,
   "metadata": {},
   "outputs": [
    {
     "name": "stdout",
     "output_type": "stream",
     "text": [
      "Epoch 1/15\n",
      "33/33 - 106s - 3s/step - accuracy: 0.8783 - loss: 0.3148\n",
      "Epoch 2/15\n",
      "33/33 - 99s - 3s/step - accuracy: 0.9367 - loss: 0.2033\n",
      "Epoch 3/15\n",
      "33/33 - 103s - 3s/step - accuracy: 0.9854 - loss: 0.0371\n",
      "Epoch 4/15\n",
      "33/33 - 102s - 3s/step - accuracy: 0.9757 - loss: 0.1692\n",
      "Epoch 5/15\n",
      "33/33 - 113s - 3s/step - accuracy: 0.9834 - loss: 0.0465\n",
      "Epoch 6/15\n",
      "33/33 - 100s - 3s/step - accuracy: 0.9815 - loss: 0.0551\n",
      "Epoch 7/15\n",
      "33/33 - 113s - 3s/step - accuracy: 0.9542 - loss: 0.3027\n",
      "Epoch 8/15\n",
      "Loss is low so cancelling training!\n",
      "33/33 - 99s - 3s/step - accuracy: 1.0000 - loss: 0.0016\n"
     ]
    }
   ],
   "source": [
    "history = model.fit(\n",
    "    train_dataset_scaled,\n",
    "    epochs=15,\n",
    "    verbose = 2,\n",
    "    callbacks = [myCallback()]\n",
    ")"
   ]
  },
  {
   "cell_type": "code",
   "execution_count": 18,
   "metadata": {},
   "outputs": [
    {
     "data": {
      "image/png": "[encoded data removed]",
      "text/plain": [
       "<Figure size 640x480 with 1 Axes>"
      ]
     },
     "metadata": {},
     "output_type": "display_data"
    }
   ],
   "source": [
    "# Plot the training accuracy for each epoch\n",
    "\n",
    "lss = history.history['loss']\n",
    "\n",
    "epochs = range(len(lss))\n",
    "\n",
    "plt.plot(epochs, lss, 'r', label='Training loss')\n",
    "plt.title('Training loss')\n",
    "plt.legend(loc=0)\n",
    "plt.show()"
   ]
  },
  {
   "cell_type": "code",
   "execution_count": 30,
   "metadata": {},
   "outputs": [],
   "source": [
    "SHUFFLE_BUFFER_SIZE = 1000\n",
    "PREFETCH_BUFFER_SIZE = tf.data.AUTOTUNE\n",
    "\n",
    "train_dataset_final = (train_dataset_scaled\n",
    "                       .cache()\n",
    "                       .shuffle(SHUFFLE_BUFFER_SIZE)\n",
    "                       .prefetch(PREFETCH_BUFFER_SIZE)\n",
    "                      )"
   ]
  },
  {
   "cell_type": "code",
   "execution_count": 31,
   "metadata": {},
   "outputs": [
    {
     "name": "stdout",
     "output_type": "stream",
     "text": [
      "Epoch 1/10\n",
      "\u001b[1m33/33\u001b[0m \u001b[32m━━━━━━━━━━━━━━━━━━━━\u001b[0m\u001b[37m\u001b[0m \u001b[1m118s\u001b[0m 3s/step - accuracy: 0.5496 - loss: 1.8275\n",
      "Epoch 2/10\n",
      "\u001b[1m33/33\u001b[0m \u001b[32m━━━━━━━━━━━━━━━━━━━━\u001b[0m\u001b[37m\u001b[0m \u001b[1m102s\u001b[0m 3s/step - accuracy: 0.8090 - loss: 0.5628\n",
      "Epoch 3/10\n",
      "\u001b[1m33/33\u001b[0m \u001b[32m━━━━━━━━━━━━━━━━━━━━\u001b[0m\u001b[37m\u001b[0m \u001b[1m89s\u001b[0m 3s/step - accuracy: 0.9011 - loss: 0.2721\n",
      "Epoch 4/10\n",
      "\u001b[1m33/33\u001b[0m \u001b[32m━━━━━━━━━━━━━━━━━━━━\u001b[0m\u001b[37m\u001b[0m \u001b[1m89s\u001b[0m 3s/step - accuracy: 0.9238 - loss: 0.1788\n",
      "Epoch 5/10\n",
      "\u001b[1m33/33\u001b[0m \u001b[32m━━━━━━━━━━━━━━━━━━━━\u001b[0m\u001b[37m\u001b[0m \u001b[1m95s\u001b[0m 3s/step - accuracy: 0.9686 - loss: 0.0891\n",
      "Epoch 6/10\n",
      "\u001b[1m33/33\u001b[0m \u001b[32m━━━━━━━━━━━━━━━━━━━━\u001b[0m\u001b[37m\u001b[0m \u001b[1m92s\u001b[0m 3s/step - accuracy: 0.9321 - loss: 0.2420\n",
      "Epoch 7/10\n",
      "\u001b[1m33/33\u001b[0m \u001b[32m━━━━━━━━━━━━━━━━━━━━\u001b[0m\u001b[37m\u001b[0m \u001b[1m89s\u001b[0m 3s/step - accuracy: 0.9875 - loss: 0.0585\n",
      "Epoch 8/10\n",
      "\u001b[1m33/33\u001b[0m \u001b[32m━━━━━━━━━━━━━━━━━━━━\u001b[0m\u001b[37m\u001b[0m \u001b[1m86s\u001b[0m 3s/step - accuracy: 0.9857 - loss: 0.0674\n",
      "Epoch 9/10\n",
      "\u001b[1m33/33\u001b[0m \u001b[32m━━━━━━━━━━━━━━━━━━━━\u001b[0m\u001b[37m\u001b[0m \u001b[1m91s\u001b[0m 3s/step - accuracy: 0.9821 - loss: 0.0485\n",
      "Epoch 10/10\n",
      "\u001b[1m33/33\u001b[0m \u001b[32m━━━━━━━━━━━━━━━━━━━━\u001b[0m\u001b[37m\u001b[0m \u001b[1m91s\u001b[0m 3s/step - accuracy: 0.9820 - loss: 0.1658\n"
     ]
    }
   ],
   "source": [
    "history = model.fit(\n",
    "    train_dataset_final,\n",
    "    epochs=10,\n",
    "    verbose = 1,\n",
    "    #callbacks = [myCallback()]\n",
    ")"
   ]
  },
  {
   "cell_type": "code",
   "execution_count": 32,
   "metadata": {},
   "outputs": [
    {
     "data": {
      "image/png": "[encoded data removed]",
      "text/plain": [
       "<Figure size 640x480 with 1 Axes>"
      ]
     },
     "metadata": {},
     "output_type": "display_data"
    }
   ],
   "source": [
    "# Plot the training accuracy for each epoch\n",
    "\n",
    "acc = history.history['accuracy']\n",
    "\n",
    "epochs = range(len(acc))\n",
    "\n",
    "plt.plot(epochs, acc, 'r', label='Training Accuracy')\n",
    "plt.title('Training Accuracy')\n",
    "plt.legend(loc=0)\n",
    "plt.show()"
   ]
  },
  {
   "cell_type": "code",
   "execution_count": 33,
   "metadata": {},
   "outputs": [
    {
     "data": {
      "application/vnd.jupyter.widget-view+json": {
       "model_id": "c62fa26a012445d98bc69f1bb87ab495",
       "version_major": 2,
       "version_minor": 0
      },
      "text/plain": [
       "FileUpload(value=(), accept='image/*', description='Upload', multiple=True)"
      ]
     },
     "metadata": {},
     "output_type": "display_data"
    },
    {
     "data": {
      "application/vnd.jupyter.widget-view+json": {
       "model_id": "4403388f6e50443b952a7cef27601826",
       "version_major": 2,
       "version_minor": 0
      },
      "text/plain": [
       "Output()"
      ]
     },
     "metadata": {},
     "output_type": "display_data"
    }
   ],
   "source": [
    "# Create the widget and take care of the display\n",
    "uploader = widgets.FileUpload(accept=\"image/*\", multiple=True)\n",
    "display(uploader)\n",
    "out = widgets.Output()\n",
    "display(out)\n",
    "\n",
    "def file_predict(filename, file, out):\n",
    "    \"\"\" A function for creating the prediction and printing the output.\"\"\"\n",
    "    image = tf.keras.utils.load_img(file, target_size=(300, 300))\n",
    "    image = tf.keras.utils.img_to_array(image)\n",
    "    image = rescaled_layer(image)\n",
    "    image = np.expand_dims(image, axis=0)\n",
    "    \n",
    "    prediction = model.predict(image, verbose=0)[0][0]\n",
    "    \n",
    "    with out:\n",
    "        if prediction > 0.5:\n",
    "            print(filename + \" is a human\")\n",
    "        else:\n",
    "            print(filename + \" is a horse\")\n",
    "\n",
    "\n",
    "def on_upload_change(change):\n",
    "    \"\"\" A function for geting files from the widget and running the prediction.\"\"\"\n",
    "    # Get the newly uploaded file(s)\n",
    "    \n",
    "    items = change.new\n",
    "    for item in items: # Loop if there is more than one file uploaded  \n",
    "        file_jpgdata = BytesIO(item.content)\n",
    "        file_predict(item.name, file_jpgdata, out)\n",
    "\n",
    "# Run the interactive widget\n",
    "# Note: it may take a bit after you select the image to upload and process before you see the output.\n",
    "uploader.observe(on_upload_change, names='value')"
   ]
  },
  {
   "cell_type": "code",
   "execution_count": null,
   "metadata": {},
   "outputs": [],
   "source": []
  }
 ],
 "metadata": {
  "kernelspec": {
   "display_name": "Python 3",
   "language": "python",
   "name": "python3"
  },
  "language_info": {
   "codemirror_mode": {
    "name": "ipython",
    "version": 3
   },
   "file_extension": ".py",
   "mimetype": "text/x-python",
   "name": "python",
   "nbconvert_exporter": "python",
   "pygments_lexer": "ipython3",
   "version": "3.12.4"
  }
 },
 "nbformat": 4,
 "nbformat_minor": 2
}
